{
 "cells": [
  {
   "cell_type": "markdown",
   "metadata": {},
   "source": [
    "# MOD 26"
   ]
  },
  {
   "cell_type": "code",
   "execution_count": 11,
   "metadata": {},
   "outputs": [
    {
     "name": "stdout",
     "output_type": "stream",
     "text": [
      "Cipher text: cvpbPGS{arkg_gvzr_V'yy_gel_2_ebhaqf_bs_ebg13_uJdSftmh}\n",
      "Plain text: picoCTF{next_time_I'll_try_2_rounds_of_rot13_hWqFsgzu}\n"
     ]
    }
   ],
   "source": [
    "def rot13(text):\n",
    "    result = \"\"\n",
    "    for character in text:\n",
    "        if 'a' <= character <= 'z':\n",
    "            offset = ord('a')\n",
    "            result += chr((ord(character) - offset + 13) % 26 + offset)\n",
    "        elif 'A' <= character <= 'Z':\n",
    "            offset = ord('A')\n",
    "            result += chr((ord(character) - offset + 13) % 26 + offset)\n",
    "        else:\n",
    "            result += character\n",
    "    return result\n",
    "\n",
    "cipher_text = \"cvpbPGS{arkg_gvzr_V'yy_gel_2_ebhaqf_bs_ebg13_uJdSftmh}\"\n",
    "plain_text = rot13(cipher_text)\n",
    "\n",
    "print(\"Cipher text:\", cipher_text)\n",
    "print(\"Plain text:\", plain_text)"
   ]
  },
  {
   "cell_type": "markdown",
   "metadata": {},
   "source": [
    "# EASY PEASY"
   ]
  },
  {
   "cell_type": "markdown",
   "metadata": {},
   "source": [
    "Running the 'nc mercury.picoctf.net 11188' in webshell we got the encrypted flag \n"
   ]
  },
  {
   "cell_type": "code",
   "execution_count": 17,
   "metadata": {},
   "outputs": [
    {
     "name": "stdout",
     "output_type": "stream",
     "text": [
      "Flag length: 32.0 \n",
      "\n",
      "49968\n"
     ]
    }
   ],
   "source": [
    "encrypted_flag = \"551e6c4c5e55644b56566d1b5100153d4004026a4b52066b4a5556383d4b0007\"\n",
    "flag_length = len(encrypted_flag)/2\n",
    "print(\"Flag length:\", flag_length, \"\\n\")\n",
    "\n",
    "k = 50000-32\n",
    "print(k) # reset the key to xor with the flag "
   ]
  },
  {
   "cell_type": "markdown",
   "metadata": {},
   "source": [
    "With that new key we can run in webshell the following:\n",
    " \n",
    "`\"print('A'*k); print('A'*flag_length)\" | nc mercury.picoctf.net 11188`"
   ]
  },
  {
   "cell_type": "code",
   "execution_count": 23,
   "metadata": {},
   "outputs": [
    {
     "name": "stdout",
     "output_type": "stream",
     "text": [
      "7904ff830f1c5bba8f763707247ba3e1\n"
     ]
    }
   ],
   "source": [
    "from operator import xor\n",
    "from pwn import *\n",
    "\n",
    "encrypted_flag = bytes.fromhex(\"551e6c4c5e55644b56566d1b5100153d4004026a4b52066b4a5556383d4b0007\")\n",
    "encrypted_text = bytes.fromhex(\"23661d3979721d3927711d392523361d3923741d3924771d3920201b1d392477\")\n",
    "decrypted_text = b'A'*32\n",
    "\n",
    "key = xor(encrypted_text,decrypted_text)\n",
    "\n",
    "print(xor(encrypted_flag, key).decode())\n"
   ]
  },
  {
   "cell_type": "markdown",
   "metadata": {},
   "source": [
    "With the result of the XOR we can use it in webshell:\n",
    "\n",
    "`\"print('A'*k); print('A'*7904ff830f1c5bba8f763707247ba3e1)\" | nc mercury.picoctf.net 11188`\n",
    "\n",
    "We should have to obtained the same encrypted_flag, and that would be the flag to solved the problem."
   ]
  },
  {
   "cell_type": "markdown",
   "metadata": {},
   "source": [
    "# THE NUMBERS"
   ]
  },
  {
   "cell_type": "code",
   "execution_count": 12,
   "metadata": {},
   "outputs": [
    {
     "name": "stdout",
     "output_type": "stream",
     "text": [
      "PICOCTFTHENUMBERSMASON\n"
     ]
    }
   ],
   "source": [
    "encoded_nums = \"16 9 3 15 3 20 6 20 8 5 14 21 13 2 5 18 19 13 1 19 15 14\"\n",
    "numbers = encoded_nums.split()\n",
    "final_message = \"\"\n",
    "\n",
    "for num in numbers:\n",
    "    # Convert each number to an ASCII character \n",
    "    char = chr(int(num) + ord('A') - 1) \n",
    "    final_message += char\n",
    "\n",
    "print(final_message)"
   ]
  },
  {
   "cell_type": "markdown",
   "metadata": {},
   "source": [
    "# NEW CAESAR"
   ]
  },
  {
   "cell_type": "code",
   "execution_count": 7,
   "metadata": {},
   "outputs": [
    {
     "name": "stdout",
     "output_type": "stream",
     "text": [
      "Ð\u000fÒÓÛßÐ | flag:  \u000f\u001eù\u001e\u001fÙùÜÝÜÛÑ\fßÞÞßÐ\u0000\fÛÚ\u000fÓÚÒ\fß\u000fÒÑ\n",
      "key:  b | flag:  \u0010/\n",
      "/ ê\n",
      "íîíìâ\u001dàïïàá\u0011\u001dìë\u0010äëã\u001dà\u0010ãâ\u001eá\u0010ãäìàá\n",
      "key:  c | flag:  !0\u001b01û\u001bþÿþýó.ñððñò\".ýü!õüô.ñ!ôó/ò!ôõýñò\n",
      "\u0005?\u00022\u0005\u00040\u00032\u0005\u0006\u000e\u0002\u0003:  2A,AB\f,\u000f\u0000\u000f\u000e\u0004?\u0002\u0001\u0001\u0002\u00033?\u000e\n",
      "key:  e | flag:  CR=RS\u001d=\u0010\u0011\u0010\u001f\u0015@\u0013\u0012\u0012\u0013\u0014D@\u001f\u001eC\u0017\u001e\u0016@\u0013C\u0016\u0015A\u0014C\u0016\u0017\u001f\u0013\u0014\n",
      "key:  f | flag:  TcNcd.N!\"! &Q$##$%UQ /T(/'Q$T'&R%T'( $%\n",
      "key:  g | flag:  et_tu?_23217b54456fb10e908b5e87c6e89156\n",
      "key:  h | flag:  v`@`CDCBHsFEEFGwsBAvJAIsFvIHtGvIJBFG\n",
      "key:  i | flag:  qQqTUTSYWVVWXSR[RZWZYXZ[SWX\n",
      "key:  j | flag:  §§¨befedjhgghidclckhkjikldhi\n",
      "key:  k | flag:  ©¸¸¹svwvu{¦yxxyzª¦ut©}t|¦y©|{§z©|}uyz\n",
      "key:  l | flag:  ºÉ¤ÉÊ¤·»·º·º¸º\n",
      "key:  m | flag:  ËÚµÚÛµÈÌÈËÈËÉË\n",
      "key:  n | flag:  ÜëÆëì¦Æ©ª©¨®Ù¬««¬­ÝÙ¨§Ü §¯Ù¬Ü¯®Ú­Ü¯ ¨¬­\n",
      "key:  o | flag:  íü×üý·×º»º¹¿ê½¼¼½¾îê¹¸í±¸°ê½í°¿ë¾í°±¹½¾\n",
      "\u000eÈèËÌËÊÀûÎÍÍÎÏÿûÊÉþÂÉÁûÎþÁÀüÏþÁÂÊÎÏ\n"
     ]
    }
   ],
   "source": [
    "import string\n",
    "\n",
    "LOWERCASE_OFFSET = ord(\"a\")\n",
    "ALPHABET = string.ascii_lowercase[:16] #a-p\n",
    "\n",
    "def b16_encode(plain):\n",
    "\tenc = \"\"\n",
    "\tfor c in plain:\n",
    "\t\tbinary = \"{0:08b}\".format(ord(c))\n",
    "\t\tenc += ALPHABET[int(binary[:4], 2)] #[0110] = [6] = g\n",
    "\t\tenc += ALPHABET[int(binary[4:], 2)] #[0001] = [1] = b\n",
    "\treturn enc\n",
    "\n",
    "def b16_decode(cipher):\n",
    "    enc = \"\"\n",
    "    for i in range(0,len(cipher),2): #each pair of character of the cipher_text is equal to 1 character\n",
    "        binary = \"{0:04b}\".format(ALPHABET.index(cipher[i]))+\"{0:04b}\".format(ALPHABET.index(cipher[i+1]))\n",
    "        enc += chr(int(binary,2))\n",
    "    return enc\n",
    "        \n",
    "def shift(c, k):\n",
    "\tt1 = ord(c) - LOWERCASE_OFFSET\n",
    "\tt2 = ord(k) - LOWERCASE_OFFSET\n",
    "\treturn ALPHABET[(t1 + t2) % len(ALPHABET)]\n",
    "\n",
    "encflag = \"apbopjbobpnjpjnmnnnmnlnbamnpnononpnaaaamnlnkapndnkncamnpapncnbannaapncndnlnpna\"\n",
    "\n",
    "for key in ALPHABET:\n",
    "    flag = \"\"\n",
    "    for c in encflag:\n",
    "        flag += shift(c, key)\n",
    "    b16 = b16_decode(flag)\n",
    "    print(\"key: \", key, \"| flag: \", b16)\n"
   ]
  },
  {
   "cell_type": "markdown",
   "metadata": {},
   "source": [
    "The only valid flag is from key G, that will be the flag to put in the picoCTF{}."
   ]
  },
  {
   "cell_type": "markdown",
   "metadata": {},
   "source": [
    "# 13"
   ]
  },
  {
   "cell_type": "code",
   "execution_count": 9,
   "metadata": {},
   "outputs": [
    {
     "name": "stdout",
     "output_type": "stream",
     "text": [
      "Cipher text: cvpbPGS{abg_gbb_onq_bs_n_ceboyrz}\n",
      "Plain text: picoCTF{not_too_bad_of_a_problem}\n"
     ]
    }
   ],
   "source": [
    "def rot13(text):\n",
    "    result = \"\"\n",
    "    for character in text:\n",
    "        if 'a' <= character <= 'z':\n",
    "            offset = ord('a')\n",
    "            result += chr((ord(character) - offset + 13) % 26 + offset)\n",
    "        elif 'A' <= character <= 'Z':\n",
    "            offset = ord('A')\n",
    "            result += chr((ord(character) - offset + 13) % 26 + offset)\n",
    "        else:\n",
    "            result += character\n",
    "    return result\n",
    "\n",
    "cipher_text = \"cvpbPGS{abg_gbb_onq_bs_n_ceboyrz}\"\n",
    "plain_text = rot13(cipher_text)\n",
    "\n",
    "print(\"Cipher text:\", cipher_text)\n",
    "print(\"Plain text:\", plain_text)"
   ]
  },
  {
   "cell_type": "markdown",
   "metadata": {},
   "source": [
    "# CAESAR"
   ]
  },
  {
   "cell_type": "code",
   "execution_count": 14,
   "metadata": {},
   "outputs": [
    {
     "name": "stdout",
     "output_type": "stream",
     "text": [
      "Shift 0: picownz{ynkooejcpdanqxeykjrbdofgkq}\n",
      "Shift 1: ohbnvmy{xmjnndiboczmpwdxjiqacnefjp}\n",
      "Shift 2: ngamulx{wlimmchanbylovcwihpzbmdeio}\n",
      "Shift 3: mfzltkw{vkhllbgzmaxknubvhgoyalcdhn}\n",
      "Shift 4: leyksjv{ujgkkafylzwjmtaugfnxzkbcgm}\n",
      "Shift 5: kdxjriu{tifjjzexkyvilsztfemwyjabfl}\n",
      "Shift 6: jcwiqht{sheiiydwjxuhkrysedlvxizaek}\n",
      "Shift 7: ibvhpgs{rgdhhxcviwtgjqxrdckuwhyzdj}\n",
      "Shift 8: haugofr{qfcggwbuhvsfipwqcbjtvgxyci}\n",
      "Shift 9: gztfneq{pebffvatgurehovpbaisufwxbh}\n",
      "Shift 10: fysemdp{odaeeuzsftqdgnuoazhrtevwag}\n",
      "Shift 11: exrdlco{nczddtyrespcfmtnzygqsduvzf}\n",
      "Shift 12: dwqckbn{mbyccsxqdrobelsmyxfprctuye}\n",
      "Shift 13: cvpbjam{laxbbrwpcqnadkrlxweoqbstxd}\n",
      "Shift 14: buoaizl{kzwaaqvobpmzcjqkwvdnparswc}\n",
      "Shift 15: atnzhyk{jyvzzpunaolybipjvucmozqrvb}\n",
      "Shift 16: zsmygxj{ixuyyotmznkxahoiutblnypqua}\n",
      "Shift 17: yrlxfwi{hwtxxnslymjwzgnhtsakmxoptz}\n",
      "Shift 18: xqkwevh{gvswwmrkxlivyfmgsrzjlwnosy}\n",
      "Shift 19: wpjvdug{furvvlqjwkhuxelfrqyikvmnrx}\n",
      "Shift 20: voiuctf{etquukpivjgtwdkeqpxhjulmqw}\n",
      "Shift 21: unhtbse{dspttjohuifsvcjdpowgitklpv}\n",
      "Shift 22: tmgsard{crossingtherubiconvfhsjkou}\n",
      "Shift 23: slfrzqc{bqnrrhmfsgdqtahbnmuegrijnt}\n",
      "Shift 24: rkeqypb{apmqqglerfcpszgamltdfqhims}\n",
      "Shift 25: qjdpxoa{zolppfkdqeboryfzlkscepghlr}\n"
     ]
    }
   ],
   "source": [
    "cipher_text = \"picoCTF{ynkooejcpdanqxeykjrbdofgkq}\"\n",
    "\n",
    "# Decrypt cipher with a given shift\n",
    "def decrypt_caesar(ciphertext, shift):\n",
    "    plain_text = ''\n",
    "    for char in ciphertext:\n",
    "        if char.isalpha():\n",
    "            # Reverse shift for letters\n",
    "            shifted_char = chr(((ord(char) - shift - ord('a')) % 26) + ord('a'))\n",
    "        else:\n",
    "            # Keep non-alphabetic characters unchanged\n",
    "            shifted_char = char\n",
    "        plain_text += shifted_char\n",
    "    return plain_text\n",
    "\n",
    "# Try all possible shifts (0 to 25)\n",
    "for shift in range(26):\n",
    "    decrypted_message = decrypt_caesar(cipher_text, shift)\n",
    "    print(f\"Shift {shift}: {decrypted_message}\")"
   ]
  },
  {
   "cell_type": "markdown",
   "metadata": {},
   "source": [
    "The only shift that could be used as the result is number 22, and we only will use the text inside the brace brackets to put in the picoCTF{}."
   ]
  },
  {
   "cell_type": "markdown",
   "metadata": {},
   "source": [
    "# EASY1"
   ]
  },
  {
   "cell_type": "markdown",
   "metadata": {},
   "source": [
    "To solve this problem we have to use the table provided in order to decode the cipher_text `UFJKXQZQUNB` and we have to use the key `SOLVECRYPTO` as well. "
   ]
  },
  {
   "cell_type": "markdown",
   "metadata": {},
   "source": [
    "The table provided is for encrypt the text, so we would have to used it in reverse."
   ]
  },
  {
   "cell_type": "markdown",
   "metadata": {},
   "source": [
    "As we have the cipher_text and the key, we would have to look manually in the table (as it is a short message). For the first character of the key I need to search the character that I can combine to obtain the first character of the cipher_text. \n",
    "\n",
    "Example:\n",
    "\n",
    "Letter `S = U -> C`"
   ]
  },
  {
   "cell_type": "code",
   "execution_count": 23,
   "metadata": {},
   "outputs": [
    {
     "name": "stdout",
     "output_type": "stream",
     "text": [
      "Decrypted Flag: CRYPTOISFUN\n"
     ]
    }
   ],
   "source": [
    "encrypted_flag = \"UFJKXQZQUNB\"\n",
    "key = \"SOLVECRYPTO\"\n",
    "flag = \"CRYPTOISFUN\" #using encrypt table \n",
    "\n",
    "print(\"Decrypted Flag:\", flag)"
   ]
  },
  {
   "cell_type": "markdown",
   "metadata": {},
   "source": [
    "# SPELLING-QUIZ"
   ]
  },
  {
   "cell_type": "code",
   "execution_count": 21,
   "metadata": {},
   "outputs": [],
   "source": [
    "import random\n",
    "import os\n",
    "\n",
    "encrypted_flag = \"brcfxba_vfr_mid_hosbrm_iprc_exa_hoav_vwcrm\"\n",
    "\n",
    "files = [\n",
    "    os.path.join(path, file)\n",
    "    for path, dirs, files in os.walk('.')\n",
    "    for file in files\n",
    "    if file.split('.')[-1] == 'txt'\n",
    "]\n",
    "\n",
    "alphabet = list('abcdefghijklmnopqrstuvwxyz')\n",
    "random.shuffle(shuffled := alphabet[:])\n",
    "dictionary = dict(zip(alphabet, shuffled))\n",
    "\n",
    "for filename in files:\n",
    "    text = open(filename, 'r').read()\n",
    "    encrypted = ''.join([\n",
    "        dictionary[c]\n",
    "        if c in dictionary else c\n",
    "        for c in text\n",
    "    ])\n",
    "    open(filename, 'w').write(encrypted)\n"
   ]
  },
  {
   "cell_type": "markdown",
   "metadata": {},
   "source": [
    "We will used the flag to solve it using an additional tool. \n",
    "\n",
    "Quipqiup is used to solve cryptogram problems using ciphers, in this case we will use `patristocrat` and one clue will be `r=e` as `r` is the most frequent letter in the flag and `e` the most frequent letter in english.\n",
    "\n",
    "The result will be `perhaps the dog jumped over was just tired` to put in the picoCTF{}."
   ]
  }
 ],
 "metadata": {
  "kernelspec": {
   "display_name": "torch",
   "language": "python",
   "name": "python3"
  },
  "language_info": {
   "codemirror_mode": {
    "name": "ipython",
    "version": 3
   },
   "file_extension": ".py",
   "mimetype": "text/x-python",
   "name": "python",
   "nbconvert_exporter": "python",
   "pygments_lexer": "ipython3",
   "version": "3.9.7"
  },
  "orig_nbformat": 4
 },
 "nbformat": 4,
 "nbformat_minor": 2
}
